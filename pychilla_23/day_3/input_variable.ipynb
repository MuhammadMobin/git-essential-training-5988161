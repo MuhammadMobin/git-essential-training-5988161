{
 "cells": [
  {
   "cell_type": "code",
   "execution_count": 2,
   "id": "1b5c888a",
   "metadata": {},
   "outputs": [
    {
     "name": "stdout",
     "output_type": "stream",
     "text": [
      "Welcome,Muhammad Mobin\n"
     ]
    }
   ],
   "source": [
    "name = input(\"Write your name:\")\n",
    "greetings = 'Welcome'\n",
    "print(f'{greetings},{name}')\n"
   ]
  },
  {
   "cell_type": "code",
   "execution_count": null,
   "id": "218f95d7",
   "metadata": {},
   "outputs": [],
   "source": []
  }
 ],
 "metadata": {
  "kernelspec": {
   "display_name": "Python 3",
   "language": "python",
   "name": "python3"
  },
  "language_info": {
   "codemirror_mode": {
    "name": "ipython",
    "version": 3
   },
   "file_extension": ".py",
   "mimetype": "text/x-python",
   "name": "python",
   "nbconvert_exporter": "python",
   "pygments_lexer": "ipython3",
   "version": "3.13.0"
  }
 },
 "nbformat": 4,
 "nbformat_minor": 5
}
