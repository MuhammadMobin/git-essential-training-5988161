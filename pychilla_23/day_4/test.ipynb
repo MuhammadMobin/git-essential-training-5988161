{
 "cells": [
  {
   "cell_type": "markdown",
   "id": "f10eb109",
   "metadata": {},
   "source": [
    "# Subject of notebook: Juyter Notebook\n",
    "## Auther: Muhammad Mobin\n",
    "### Where to contact: facebook [m.mobinpk](https://www.facebook.com/m.mobinpk), github [MuhammadMobin](https://github.com/MuhammadMobin)\n",
    "**date: 2025-06-15 **"
   ]
  },
  {
   "cell_type": "code",
   "execution_count": 7,
   "id": "9d018a33",
   "metadata": {},
   "outputs": [
    {
     "name": "stdout",
     "output_type": "stream",
     "text": [
      "Muhammad Mobin\n"
     ]
    }
   ],
   "source": [
    "# code 1\n",
    "print(\"Muhammad Mobin\")"
   ]
  },
  {
   "cell_type": "code",
   "execution_count": 8,
   "id": "adf4e1c6",
   "metadata": {},
   "outputs": [
    {
     "data": {
      "text/plain": [
       "5"
      ]
     },
     "execution_count": 8,
     "metadata": {},
     "output_type": "execute_result"
    }
   ],
   "source": [
    "2+3"
   ]
  },
  {
   "cell_type": "code",
   "execution_count": 9,
   "id": "0e449762",
   "metadata": {},
   "outputs": [
    {
     "name": "stdout",
     "output_type": "stream",
     "text": [
      "Hello, Muhammad Mobin!\n"
     ]
    }
   ],
   "source": [
    "#code 2\n",
    "# This code prompts the user for their name and greets them\n",
    "name = input(\"Enter your name: \")\n",
    "print(f\"Hello, {name}!\")"
   ]
  },
  {
   "cell_type": "code",
   "execution_count": 13,
   "id": "b8b590b3",
   "metadata": {},
   "outputs": [
    {
     "name": "stdout",
     "output_type": "stream",
     "text": [
      "The ingredients of a samosa are: ('potato', 'onion', 'spices', 'flour', 'oil', 'spices')\n"
     ]
    }
   ],
   "source": [
    "#code 3\n",
    "# This code defines the ingredients of a samosa\n",
    "samosa = \"potato\", \"onion\", \"spices\", \"flour\", \"oil\",\"spices\"\n",
    "# This code prints the ingredients of a samosa\n",
    "print(\"The ingredients of a samosa are:\", samosa)"
   ]
  }
 ],
 "metadata": {
  "kernelspec": {
   "display_name": "Python 3",
   "language": "python",
   "name": "python3"
  },
  "language_info": {
   "codemirror_mode": {
    "name": "ipython",
    "version": 3
   },
   "file_extension": ".py",
   "mimetype": "text/x-python",
   "name": "python",
   "nbconvert_exporter": "python",
   "pygments_lexer": "ipython3",
   "version": "3.13.0"
  }
 },
 "nbformat": 4,
 "nbformat_minor": 5
}
